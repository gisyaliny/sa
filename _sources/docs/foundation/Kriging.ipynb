{
 "cells": [
  {
   "cell_type": "markdown",
   "metadata": {},
   "source": [
    "# The Kriging Model\n",
    "\n",
    "## Definition\n",
    "\n",
    "- The `Kriging` Model is a `interpolation` model, basically, it analysis how to use `spatial neighbors` of location i to **predict** the value of $y_i$\n",
    "- It is named after the South African mining engineer` Danie G. Krige`.\n",
    "- `Kriging` is widely used in fields such as `geology`, `hydrology`, and `environmental science`.\n",
    "\n",
    "## Simple Kriging (SK)\n",
    "\n",
    "- `Simple Kriging` assumes the mean of the underlying process is known and constant across the entire study area.\n",
    "\n",
    "$$\n",
    "Z(x_0) = \\mu + \\sum_{i=1}^N \\lambda_i(Z(x_i)-\\mu)\n",
    "$$\n",
    "\n",
    "- $Z(x_0)$ is the estimated value at location $x_0$\n",
    "- $\\mu$ is the known mean of the process.\n",
    "- $\\lambda_i$ are the kriging weights\n",
    "- $Z(x_i)$ are the known values at the sampled locations.\n",
    "\n",
    "### Weights Calculation\n",
    "\n",
    "The weights $\\lambda_i$ are calculated by solving the kriging system:\n",
    "\n",
    "1. We assume $y_i=w^T y_j+ε$, where $y_j$ are spatial neighbors of $y_i$, $w$ is weight matrix\n",
    "2. $w$ is evaluated by semivariogram $γ(x_i,x_j)$\n",
    "\n",
    "   - $A∗w=b\\to w=A^{−1} b$, where $A$ is a matrix of $γ(x_i,x_j)$, $b$ is $γ(y_i,y_j)$\n",
    "\n",
    "   ![img](./assets/01.jpg)\n"
   ]
  },
  {
   "cell_type": "markdown",
   "metadata": {},
   "source": [
    "### Python Sample Script\n"
   ]
  },
  {
   "cell_type": "code",
   "execution_count": 1,
   "metadata": {},
   "outputs": [],
   "source": [
    "import numpy as np\n",
    "\n",
    "# Sample data (x, y, z)\n",
    "# data: A 2D NumPy array where each row represents a point with coordinates (x,y) and a corresponding value z.\n",
    "data = np.array([\n",
    "    [0, 0, 1.0],\n",
    "    [1, 0, 2.0],\n",
    "    [0, 1, 1.5],\n",
    "    [1, 1, 2.5]\n",
    "])\n",
    "\n",
    "# Known mean\n",
    "# This value is assumed to be known and constant across the entire study area for Simple Kriging.\n",
    "mu = 1.75\n",
    "\n",
    "# Semivariogram function (spherical model for example)\n",
    "def semivariance(h):\n",
    "    \"\"\"A function that defines the semivariogram model, which describes how the spatial correlation between points changes with distance.\n",
    "    \n",
    "        a : The range parameter, beyond which points are no longer correlated.\n",
    "        c0: The nugget parameter, representing the semivariance at zero distance (accounting for measurement error or microscale variation).\n",
    "        c : The sill parameter, representing the value at which the semivariance levels off.\n",
    "    \"\"\"\n",
    "    a = 1  # range\n",
    "    c0 = 0.5  # nugget\n",
    "    c = 1.5  # sill\n",
    "    return c0 + c * ((3 * h / (2 * a)) - (h**3 / (2 * a**3))) if h < a else c0 + c"
   ]
  },
  {
   "cell_type": "markdown",
   "metadata": {},
   "source": [
    "`np.linalg.norm` : A function to calculate the Euclidean distance between two points.\n"
   ]
  },
  {
   "cell_type": "code",
   "execution_count": 2,
   "metadata": {},
   "outputs": [
    {
     "name": "stdout",
     "output_type": "stream",
     "text": [
      "Simple Kriging estimate at [0.5 0.5]: 1.75\n"
     ]
    }
   ],
   "source": [
    "# Distance matrix\n",
    "# A matrix where each element (i,j) dist_matrix: A matrix where each element i and j.\n",
    "N = data.shape[0]\n",
    "dist_matrix = np.zeros((N, N))\n",
    "for i in range(N):\n",
    "    for j in range(N):\n",
    "        dist_matrix[i, j] = np.linalg.norm(data[i, :2] - data[j, :2])\n",
    "\n",
    "# Semivariance matrix\n",
    "# A matrix where each element is the semivariance between points i and j, calculated using the semivariogram function.\n",
    "gamma_matrix = np.vectorize(semivariance)(dist_matrix)\n",
    "\n",
    "# Distance to the prediction location\n",
    "x0 = np.array([0.5, 0.5])\n",
    "\n",
    "# An array containing the distances from each data point to the prediction location\n",
    "dist_to_x0 = np.array([np.linalg.norm(data[i, :2] - x0) for i in range(N)])\n",
    "\n",
    "# An array containing the semivariances between each data point and the prediction location.\n",
    "gamma_to_x0 = np.vectorize(semivariance)(dist_to_x0)\n",
    "\n",
    "# Kriging weights\n",
    "lambda_weights = np.linalg.solve(gamma_matrix, gamma_to_x0)\n",
    "\n",
    "# Simple kriging estimation\n",
    "z0 = mu + np.dot(lambda_weights, data[:, 2] - mu)\n",
    "print(f\"Simple Kriging estimate at {x0}: {z0}\")"
   ]
  },
  {
   "cell_type": "markdown",
   "metadata": {},
   "source": [
    "## Ordinary Kriging (OK)\n",
    "\n",
    "- `Ordinary Kriging` assumes an `unknown` but `constant mean` within the neighborhood of the prediction location.\n",
    "- The kriging estimator for a location $x_0$ is given by\n",
    "\n",
    "$$\n",
    "Z(x_0) = \\sum_{i=1}^N\\lambda_iZ(x_i)\n",
    "$$\n",
    "\n",
    "subject to the constraint: $\\sum_{i=1}^N\\lambda_i = 1$\n"
   ]
  },
  {
   "cell_type": "markdown",
   "metadata": {},
   "source": [
    "### Python Sample Script\n"
   ]
  },
  {
   "cell_type": "code",
   "execution_count": 3,
   "metadata": {},
   "outputs": [
    {
     "name": "stdout",
     "output_type": "stream",
     "text": [
      "Ordinary Kriging estimate at [0.5 0.5]: 2.312310601229375\n"
     ]
    }
   ],
   "source": [
    "# Extended distance matrix (with ones for the Lagrange multiplier)\n",
    "extended_dist_matrix = np.ones((N + 1, N + 1))\n",
    "extended_dist_matrix[:N, :N] = gamma_matrix\n",
    "# Extended semivariance vector (with one for the Lagrange multiplier)\n",
    "extended_gamma_to_x0 = np.append(gamma_to_x0, 1)\n",
    "# Kriging weights (including Lagrange multiplier)\n",
    "extended_lambda_weights = np.linalg.solve(extended_dist_matrix, extended_gamma_to_x0)\n",
    "# Ordinary kriging estimation\n",
    "z0_ok = np.dot(extended_lambda_weights[:N], data[:, 2])\n",
    "print(f\"Ordinary Kriging estimate at {x0}: {z0_ok}\")"
   ]
  },
  {
   "cell_type": "markdown",
   "metadata": {},
   "source": [
    "### Evolution of the Equations\n",
    "\n",
    "The kriging equations evolve from the general need to minimize the estimation variance while keeping the estimator unbiased. This involves:\n",
    "\n",
    "1. Defining a linear estimator based on spatially correlated data.\n",
    "2. Using the `semivariogram` to model `spatial correlation`.\n",
    "3. Solving a system of linear equations to obtain weights that minimize variance and ensure unbiasedness.\n"
   ]
  },
  {
   "cell_type": "markdown",
   "metadata": {},
   "source": [
    "## Universal Kriging\n",
    "\n",
    "`Universal Kriging (UK)`, also known as `Kriging with a Trend`, is an extension of `Ordinary Kriging`.\n",
    "\n",
    "It is used when the data exhibits a trend or deterministic function that can be modeled.\n",
    "\n",
    "Unlike `Ordinary Kriging`, which assumes a constant `mean` within a local neighborhood, `Universal Kriging` accounts for a **non-stationary `mean`** that changes over the study area.\n",
    "\n",
    "### Universal Kriging Model\n",
    "\n",
    "`Universal Kriging` assumes that the underlying process can be decomposed into a `deterministic trend component` and a `stochastic residual component`.\n",
    "\n",
    "$$\n",
    "Z(x) = m(x) + e(x)\n",
    "$$\n",
    "\n",
    "- $Z(x)$ is the value at location $x$\n",
    "- $m(x)$ is the deterministic trend function.\n",
    "- $e(x)$ is the stochastic residual with mean zero and spatial correlation.\n",
    "\n",
    "### Trend function\n",
    "\n",
    "The trend $m(x)$ can be modeled as a linear combination of known functions $f_k(x)$:\n",
    "\n",
    "$$\n",
    "m(x) = \\sum_{k=1}^p\\beta_kf_k(x)\n",
    "$$\n",
    "\n",
    "- $f_k(x)$ are the basis functions (e.g., `polynomials`, `harmonics`).\n",
    "- $\\beta_k$ are the coefficients to be estimated.\n"
   ]
  },
  {
   "cell_type": "markdown",
   "metadata": {},
   "source": [
    "### Kriging Estimator\n",
    "\n",
    "The Universal Kriging estimator for a location $x_0$ is given by:\n",
    "\n",
    "$$\n",
    "Z(x_0) = \\sum_{i=1}^NZ(x_i) + \\sum_{k=1}^p\\mu_kf_k(x_0)\n",
    "$$\n",
    "\n",
    "subject to $\\sum_{i=1}^N\\lambda_if_k(x_i) = f_k(x_0)$ for $k=1,2,...,p$\n"
   ]
  },
  {
   "cell_type": "markdown",
   "metadata": {},
   "source": [
    "### Python Sample Script\n"
   ]
  },
  {
   "cell_type": "code",
   "execution_count": 4,
   "metadata": {},
   "outputs": [
    {
     "name": "stdout",
     "output_type": "stream",
     "text": [
      "Universal Kriging estimate at [0.5 0.5]: 1.9508252147247764\n"
     ]
    }
   ],
   "source": [
    "def basis_functions(x):\n",
    "    return np.array([1, x[0], x[1]])\n",
    "# Distance matrix\n",
    "N = data.shape[0]\n",
    "dist_matrix = np.zeros((N, N))\n",
    "for i in range(N):\n",
    "    for j in range(N):\n",
    "        dist_matrix[i, j] = np.linalg.norm(data[i, :2] - data[j, :2])\n",
    "        \n",
    "# Semivariance matrix\n",
    "gamma_matrix = np.vectorize(semivariance)(dist_matrix)\n",
    "\n",
    "# Distance to the prediction location\n",
    "x0 = np.array([0.5, 0.5])\n",
    "dist_to_x0 = np.array([np.linalg.norm(data[i, :2] - x0) for i in range(N)])\n",
    "gamma_to_x0 = np.vectorize(semivariance)(dist_to_x0)\n",
    "# Basis function matrix\n",
    "F = np.vstack([basis_functions(data[i, :2]) for i in range(N)])\n",
    "f0 = basis_functions(x0)\n",
    "# Extended distance matrix (with basis functions for Lagrange multipliers)\n",
    "extended_dist_matrix = np.zeros((N + F.shape[1], N + F.shape[1]))\n",
    "extended_dist_matrix[:N, :N] = gamma_matrix\n",
    "extended_dist_matrix[:N, N:] = F\n",
    "extended_dist_matrix[N:, :N] = F.T\n",
    "# Extended semivariance vector (with basis function values)\n",
    "extended_gamma_to_x0 = np.concatenate([gamma_to_x0, f0])\n",
    "# Kriging weights (including Lagrange multipliers)\n",
    "extended_lambda_weights = np.linalg.solve(extended_dist_matrix, extended_gamma_to_x0)\n",
    "# Universal kriging estimation\n",
    "z0_uk = np.dot(extended_lambda_weights[:N], data[:, 2]) + np.dot(extended_lambda_weights[N:], f0)\n",
    "print(f\"Universal Kriging estimate at {x0}: {z0_uk}\")"
   ]
  }
 ],
 "metadata": {
  "kernelspec": {
   "display_name": "mybase",
   "language": "python",
   "name": "python3"
  },
  "language_info": {
   "codemirror_mode": {
    "name": "ipython",
    "version": 3
   },
   "file_extension": ".py",
   "mimetype": "text/x-python",
   "name": "python",
   "nbconvert_exporter": "python",
   "pygments_lexer": "ipython3",
   "version": "3.11.4"
  }
 },
 "nbformat": 4,
 "nbformat_minor": 2
}
