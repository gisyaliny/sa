{
 "cells": [
  {
   "cell_type": "markdown",
   "metadata": {},
   "source": [
    "# SAR and CAR\n"
   ]
  },
  {
   "cell_type": "markdown",
   "metadata": {},
   "source": [
    "## Covariance Matrix\n",
    "\n",
    "- Before dive into `SAR` and `CAR`, we need to introduce `Covariance Matrix` in detail\n",
    "\n",
    "### What's Covariance?\n",
    "\n",
    "- Covariance measures the joint variability of two random variables. If the greater values of one variable mainly correspond with the greater values of the other, the covariance is positive. In contrast, if the greater values of one correspond with the lower values of the other, the covariance is negative.\n"
   ]
  },
  {
   "cell_type": "markdown",
   "metadata": {},
   "source": [
    "# Simultaneous Autoregressive Regression (SAR)\n",
    "\n",
    "## Overview\n",
    "\n",
    "- SAR models the dependent variable based on both the `independent variables` and the `spatial lag of the dependent variable`. \\* The `spatial lag` is a **weighted average** of neighboring observations, with weights typically based on **geographic distance** or **connectivity**.\n",
    "\n",
    "$$\n",
    "Y=\\rho WY+X\\beta+e\n",
    "$$\n",
    "\n",
    "- $Y$ is the dependent variable.\n",
    "- $ρ$ is the spatial autoregressive parameter.\n",
    "- $W$ is the `spatial weights matrix`, defining the relationship between each pair of observations in terms of spatial proximity.\n",
    "- $X$ are the independent variables.\n",
    "- $β$ are the coefficients for the independent variables.\n",
    "- $ϵ$ is the error term, assumed to be normally distributed.\n"
   ]
  },
  {
   "cell_type": "markdown",
   "metadata": {},
   "source": [
    "## Estimating $\\rho$ using MLE\n",
    "\n",
    "1. Rearrange the SAR model\n",
    "\n",
    "$$\n",
    "(I-\\rho W)Y=X\\beta + e \\to Y = (1-\\rho W)^{-1} X\\beta + (1-\\rho W)^{-1}e\n",
    "$$\n",
    "\n",
    "2. Assume $e$ ~ $N(0,\\sigma^2 I)$\n"
   ]
  }
 ],
 "metadata": {
  "language_info": {
   "name": "python"
  }
 },
 "nbformat": 4,
 "nbformat_minor": 2
}
