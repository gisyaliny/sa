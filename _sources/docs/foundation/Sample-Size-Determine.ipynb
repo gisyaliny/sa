{
 "cells": [
  {
   "cell_type": "markdown",
   "metadata": {},
   "source": [
    "# Sample Size\n"
   ]
  },
  {
   "cell_type": "markdown",
   "metadata": {},
   "source": [
    "##\n"
   ]
  },
  {
   "cell_type": "markdown",
   "metadata": {},
   "source": [
    "## Traditional Sample Size Design\n",
    "\n",
    "$$\n",
    "n=\\frac{Z^2*\\sigma^2}{e^2}\n",
    "$$\n",
    "\n",
    "- Before we dive into it, let's introduce some key variables and theory we will use\n",
    "\n",
    "### Key Variables:\n",
    "\n",
    "- Population Size ($N$): Total number of units in the population.\n",
    "- Sample Size ($n$): Number of units to be sampled.\n",
    "- Confidence Level: Typically 90%, 95%, or 99%.\n",
    "- Margin of Error ($e$): The maximum error allowed in the sample estimate.\n",
    "- Standard Deviation ($σ$): Variability of the population. If unknown, it can be estimated.\n",
    "- Z-Score ($Z$): Corresponds to the chosen confidence level (e.g., 1.96 for 95%).\n",
    "\n",
    "### Central Limit Theorem (CLT)\n",
    "\n",
    "- The CLT states that, for a **sufficiently large** sample size, the sampling distribution of the **sample mean** will be approximately **normally distributed**, regardless of the shape of the population distribution.\n",
    "  _ Mean of this normal distribution **equals to the population mean ($\\mu$)**\n",
    "  _ The standard deviation (Standard error of the mean, $SEM$) is determined by both the standard deviation of the population ($\\sigma$) and sample size\n",
    "\n",
    "$$\n",
    "SEM=\\frac{\\sigma}{\\sqrt{n}}\n",
    "$$\n",
    "\n",
    "### Margin of Error and Confidence Interval\n",
    "\n",
    "- The margin of error ($e$) is half the width of this confidence interval.\n",
    "\n",
    "$$\n",
    "e = Z* SEM \\to e = Z*\\frac{\\sigma}{\\sqrt{n}} \\to n = \\frac{Z^2*\\sigma^2}{e^2}\n",
    "$$\n",
    "\n",
    "- $Z$: the Z-score representing the confidence level.\n",
    "- $σ$: the population standard deviation.\n",
    "- $e$: the desired margin of error.\n"
   ]
  },
  {
   "cell_type": "markdown",
   "metadata": {},
   "source": [
    "### Important Assumption\n",
    "\n",
    "1. Known Population Standard Deviation ($\\sigma$)\n",
    "2. Independence of Observations\n",
    "3. Homogeneity of Variance\n"
   ]
  }
 ],
 "metadata": {
  "language_info": {
   "name": "python"
  }
 },
 "nbformat": 4,
 "nbformat_minor": 2
}
