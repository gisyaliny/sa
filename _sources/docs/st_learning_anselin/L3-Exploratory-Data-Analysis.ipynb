{
 "cells": [
  {
   "cell_type": "markdown",
   "id": "806fb1d3",
   "metadata": {},
   "source": [
    "# Exploratory Data Analysis\n"
   ]
  },
  {
   "cell_type": "markdown",
   "id": "5cf75553-4440-4330-8031-d9c2b04887eb",
   "metadata": {},
   "source": [
    "## Basic Statistical Graphs\n",
    "\n",
    "### Univariate Distribution\n",
    "\n",
    "1. Histogram\n",
    "\n",
    "   - Bin / bandwidth\n",
    "\n",
    "   ![img](https://media.geeksforgeeks.org/wp-content/uploads/20231004173705/Histogram.webp)\n",
    "\n",
    "2. Box plot\n",
    "\n",
    "   ![img](https://doc.arcgis.com/en/insights/latest/create/GUID-5C7AAF44-C609-472D-9193-0E9B23C6B68F-web.png)\n"
   ]
  },
  {
   "cell_type": "markdown",
   "id": "a8bc797a-a36f-476a-a98c-d6af18d620ab",
   "metadata": {},
   "source": [
    "### Bivariate Distribution\n",
    "\n",
    "1. Scatter plot\n",
    "2. `Lowess Smoother`\n",
    "\n",
    "   - **Local Regression**\n",
    "   - Slope based on a subset of observations\n",
    "     1. For each $x_i$,$y_i$, fit based on (x,y) with x in neighborhood of $x_i$\n",
    "   - Choice of bandwidth\n",
    "     1. Short `bandwidth` yields spiky curve\n",
    "     2. Wide `bandwidth` yields smoother curve\n",
    "\n",
    "   ![img11](./assets/11.png)\n"
   ]
  },
  {
   "cell_type": "markdown",
   "id": "9d203466-7f62-4ad5-8415-be54357ee632",
   "metadata": {},
   "source": [
    "## Spatial Heterogeneity\n",
    "\n",
    "1. `Structural breaks` in the data with a spatial imprint\n",
    "2. Different distributions in different subregions\n",
    "   a. Different `mean`, `median`\n",
    "3. Change in bivariate linear relationship\n",
    "   - Structural beak in slope (`Chow Test`)\n"
   ]
  },
  {
   "cell_type": "markdown",
   "id": "748e19c4-70bd-4a7a-8c4b-1958328a92da",
   "metadata": {},
   "source": [
    "## Tools for Spatial Heterogeneity Analysis (Bivariate)\n",
    "\n",
    "### Averages Chart\n",
    "\n",
    "1. Test on difference in mean\n",
    "2. Selected and Unselected\n",
    "   - Spatial selection\n",
    "3. Test is `F-statistic` from dummy variable regression\n",
    "\n",
    "   - Test the coefficient of dummy variable is significant or not\n",
    "\n",
    "   ![image.png](./assets/12.png)\n"
   ]
  },
  {
   "cell_type": "markdown",
   "id": "38b0671d-1247-4a1a-bbd0-cfa7ad0227e6",
   "metadata": {},
   "source": [
    "### Brushing the Scatter Plot\n",
    "\n",
    "1. A brush is a selection shape\n",
    "2. Two slopes: `selected` and `unselected`\n",
    "3. As the brush moves, the slopes are recalculated in a dynamic way = `dynamic brushing`\n",
    "4. The matching observations in other windows are also selection\n",
    "   - Dynamic brushing and linking\n",
    "5. Chow Test on Homogeneity of slopes\n",
    "   - Hypothesis test on equality of slopes\n",
    "     1. Overall regression slope\n",
    "     2. Slope for selected\n",
    "     3. Slope for unselected\n",
    "6. Link map brushing with Chow Test\n",
    "\n",
    "   - Insight into spatial heterogeneity\n",
    "\n",
    "   ![img14](./assets/14.png)\n"
   ]
  },
  {
   "cell_type": "markdown",
   "id": "aee5bf04-1480-4013-9e73-826062a77000",
   "metadata": {},
   "source": [
    "## Multivariate EDA\n",
    "\n",
    "### Objective\n",
    "\n",
    "1. Represent multi-dimensional data in two dimensions\n",
    "   i. Dimension reduction\n",
    "   ii. Projection\n",
    "2. Discover Structure, interaction, patterns\n",
    "3. **Exploratory methods do not explain, it suggest `hypotheses`**\n"
   ]
  },
  {
   "cell_type": "markdown",
   "id": "1633a066-1a87-445b-bfc9-2e147d323f64",
   "metadata": {},
   "source": [
    "## Methods for multivariate EDA\n",
    "\n",
    "### Bubble Chart\n",
    "\n",
    "1. e.g. kids in family vs public assistants number vs high rent (sd)\n",
    "2. Enhanced Scatter Plot\n",
    "\n",
    "   1. Size of bubble : third variable\n",
    "   2. Color of bubble: Fourth variable\n",
    "   3. Explore interaction among variables\n",
    "   4. Explore structural breaks\n",
    "\n",
    "   ![image.png](./assets/15.png)\n"
   ]
  },
  {
   "cell_type": "markdown",
   "id": "9fd4ba4e-ec5c-46df-9e64-2cc8e1cae806",
   "metadata": {},
   "source": [
    "### 3D Scatter Plot\n",
    "\n",
    "1. Points in a 3D data cube\n",
    "2. Two-Dimensional analysis on side panels\n",
    "3. Issues of perspective\n",
    "   1. Zooming, Rotating\n",
    "4. Brushing the 3D data Cube\n",
    "\n",
    "   ![image.png](./assets/16.png)\n"
   ]
  },
  {
   "cell_type": "markdown",
   "id": "e32cbae0-d462-4654-b841-47bfbbf85ac3",
   "metadata": {},
   "source": [
    "### Parallel coordinate plot(PCP)\n",
    "\n",
    "1. Variables\n",
    "   1. One parallel line for each variable\n",
    "   2. Outliers are far from the main pack\n",
    "2. Observations\n",
    "\n",
    "   1. A line connecting points on parallels\n",
    "   2. The line is the counterpart of a point in the multidimensional data cube\n",
    "\n",
    "   ![img](./assets/17.png)\n"
   ]
  },
  {
   "cell_type": "markdown",
   "id": "13e26e62-9e7f-4a7d-abe6-8e1d0fd3b389",
   "metadata": {},
   "source": [
    "### Conditional Plots\n",
    "\n",
    "1. Interpretation of Conditional Plots\n",
    "\n",
    "   1. Micro plots are similar, no effect of conditioning variables\n",
    "   2. Micro plots are different, effect of conditioning variables\n",
    "\n",
    "   ![image.png](./assets/18.png)\n"
   ]
  }
 ],
 "metadata": {
  "kernelspec": {
   "display_name": "Python 3 (ipykernel)",
   "language": "python",
   "name": "python3"
  },
  "language_info": {
   "codemirror_mode": {
    "name": "ipython",
    "version": 3
   },
   "file_extension": ".py",
   "mimetype": "text/x-python",
   "name": "python",
   "nbconvert_exporter": "python",
   "pygments_lexer": "ipython3",
   "version": "3.10.9"
  }
 },
 "nbformat": 4,
 "nbformat_minor": 5
}
