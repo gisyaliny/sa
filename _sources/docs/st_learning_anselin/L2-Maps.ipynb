{
 "cells": [
  {
   "cell_type": "markdown",
   "id": "105ce595",
   "metadata": {},
   "source": [
    "# Maps\n"
   ]
  },
  {
   "cell_type": "markdown",
   "metadata": {},
   "source": [
    "## Map\n",
    "\n",
    "1. Definition: a map is `a collection of spatially defined objects` (Mark Monmonier)\n",
    "2. Beyond mapping\n",
    "   - Map as analysis vs Map as presentation\n",
    "     - Geo-visualization\n",
    "     - Geospatial visual analytics\n",
    "   - Exploratory spatial data analysis (`ESDA`) - Luc Anselin\n",
    "     - `Spatial regimes`: `Spatial regimes` are a form of `spatial heterogeneity`, which implies structural differences across space.\n",
    "     - When a variable is characterized by distinct distributions (e.g., with a **different `mean` or `variance`**) for different geographic subregions, these subregions might point to the existence of `spatial regimes`.\n"
   ]
  },
  {
   "cell_type": "markdown",
   "id": "38339a69-f0a2-4f86-bfec-bb7efce3fca2",
   "metadata": {
    "tags": []
   },
   "source": [
    "### Traditional Knowledge Discovery\n",
    "\n",
    "1. `Deductive` approach\n",
    "   - Hypothesis first, data later\n",
    "2. `Inductive` approach\n",
    "   - Data first, hypothesis later\n",
    "3. `Abductive` approach\n",
    "   - Pattern discovered along with hypothesis\n",
    "   - Interaction between data exploration and human perception\n"
   ]
  },
  {
   "cell_type": "markdown",
   "id": "b186864f-00dc-41b1-b32f-ef2388bda9ec",
   "metadata": {},
   "source": [
    "## Map Design Primer\n",
    "\n",
    "### How to Lie with Maps\n",
    "\n",
    "1. Manipulate map design parameters\n",
    "   - `Scale`, `Symbols`, `Legends`, `Colors`, `Intervals`\n",
    "2. Choice of Projection\n",
    "   - `Larger` areas seems more important\n",
    "   - `Conformal` = Preserve angle\n",
    "   - `Equal area` = Preserve area\n",
    "   - `Equal distant` = Preserve distance\n",
    "   - `Azimuthal` = preserve direction\n",
    "3. **Human Perception can be tricked**\n"
   ]
  },
  {
   "cell_type": "markdown",
   "id": "e2ac3b81",
   "metadata": {},
   "source": [
    "### Choropleth Map\n",
    "\n",
    "1. Visualizing a spatial distribution\n",
    "   - `Natural Breaks` VS `Quantile`\n",
    "   - `Natural Breaks` use `clustering` algorithm (minimum the heterogeneity within classes)\n",
    "   - `Natural Breaks` have **different number of observations per category**\n"
   ]
  },
  {
   "cell_type": "markdown",
   "id": "8b348106-50a8-42b4-a6c7-afa480c24902",
   "metadata": {},
   "source": [
    "## Continuous Statistical Maps\n",
    "\n",
    "### Percentile Map\n",
    "\n",
    "1. Special form of `Quantile Map` - `Percentiles`\n",
    "2. 6 categories instead of 100 categories\n",
    "   - < 1%, 1-10%, 10-50%, 50-90%, 90-99%, >99%\n",
    "3. **Emphasis on Extremes** - Away from median\n",
    "4. Only works well for large data sets\n",
    "\n",
    "   ![image.png](./assets/02.png)\n"
   ]
  },
  {
   "cell_type": "markdown",
   "id": "2685a240-4df8-4dd5-b7c3-925127564544",
   "metadata": {},
   "source": [
    "### Box map plot (Luc Anselin)\n",
    "\n",
    "1. Box and whiskers plot\n",
    "   - **Identify shape of distribution and outliers**\n",
    "   - Focus on `median`\n",
    "2. Inter quartile range (`IQR`)\n",
    "\n",
    "   - Range from 25% to 75%\n",
    "   - Fence = 75%/25% $+/-$ 1.5 IQR or $+/-$ 3 IQR\n",
    "     - `Outliers` = outside the fence\n",
    "\n",
    "   ![image.png](./assets/03.png)\n"
   ]
  },
  {
   "cell_type": "markdown",
   "id": "ba939252-8bb6-4980-818f-68f168f841e1",
   "metadata": {},
   "source": [
    "### Standard Deviation Map\n",
    "\n",
    "1. **Based on standardized data value**\n",
    "   - `Mean` = 0, `standard deviation` = 1\n",
    "2. Intervals correspond to one standard deviation\n",
    "3. `Outliers` are more than 2 standard deviations from the mean\n",
    "\n",
    "   ![img](./assets/05.png)\n"
   ]
  },
  {
   "cell_type": "markdown",
   "id": "00a161a9-077b-4c05-ac22-54c9c171714b",
   "metadata": {},
   "source": [
    "## Categorial Statistical Maps\n",
    "\n",
    "### Co-Location Map\n",
    "\n",
    "1. Unique value map or `Categorical map`\n",
    "   - For discrete categories\n",
    "2. Map overlay\n",
    "\n",
    "   - `Map algebra`\n",
    "   - Matching categories between two or more maps\n",
    "\n",
    "   ![img6](./assets/06.png)\n",
    "\n",
    "3. **Multivariate categorical association**\n",
    "\n",
    "   1. Transfer `box plot` into `categorical map` (1-6)\n",
    "   2. Find the **overlap** of the categories (rank)\n",
    "\n",
    "   ![img7](./assets/07.png)\n"
   ]
  },
  {
   "cell_type": "markdown",
   "id": "1fb483f5-8b69-4587-b461-bb74c3a5dd64",
   "metadata": {},
   "source": [
    "### Cartogram\n",
    "\n",
    "1. Areal unit proportional to variable of interest\n",
    "2. Avoid misleading effect of area\n",
    "\n",
    "   ![img8](./assets/08.png)\n",
    "\n",
    "3. Use transformed shapes\n",
    "\n",
    "   - `Circular cartogram` and `Contiguous cartogram`\n",
    "\n",
    "   ![img9](./assets/09.png)\n"
   ]
  },
  {
   "cell_type": "markdown",
   "id": "55362195-8bd5-4f69-8811-1cefa7637f2d",
   "metadata": {},
   "source": [
    "### Conditional Map\n",
    "\n",
    "1. Special case of `trellis/facet/conditional graphs`\n",
    "2. `Micro-map matrix`\n",
    "\n",
    "   - **Conditioning variables on axes**\n",
    "   - Matrix of mini maps for the variable of interest conditioned by values on the axes\n",
    "\n",
    "   ![img10](./assets/10.png)\n"
   ]
  }
 ],
 "metadata": {
  "kernelspec": {
   "display_name": "Python 3 (ipykernel)",
   "language": "python",
   "name": "python3"
  },
  "language_info": {
   "codemirror_mode": {
    "name": "ipython",
    "version": 3
   },
   "file_extension": ".py",
   "mimetype": "text/x-python",
   "name": "python",
   "nbconvert_exporter": "python",
   "pygments_lexer": "ipython3",
   "version": "3.10.9"
  }
 },
 "nbformat": 4,
 "nbformat_minor": 5
}
