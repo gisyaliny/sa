{
 "cells": [
  {
   "cell_type": "markdown",
   "id": "2272499b-b836-4f66-81c1-883d306588ee",
   "metadata": {},
   "source": [
    "# Moran's I and Geary's C\n",
    "\n",
    "## Global Spatial Autocorrelation Measures\n",
    "\n",
    "1. One statistic for the whole pattern\n",
    "2. Test for clustering not for clusters (location)\n",
    "\n",
    "### Moran's I (1948)\n",
    "\n",
    "![img](./assets/23.png)\n",
    "\n",
    "- The most commonly used for many `spatial autocorrelation statistics`\n",
    "\n",
    "$$\n",
    "\\ I = \\left[ \\frac{\\sum_i \\sum_j W_{ij} \\frac{z_i z_j}{S_0}}{\\frac{\\sum_i z_i^2}{N}} \\right] = \\frac{N \\cdot \\sum_i z_i \\sum_j w_{ij} z_j}{s_0 \\sum_i z_i^2}\n",
    "$$\n",
    "\n",
    "- $S_0 = \\sum_i\\sum_j W_{ij}$, $Z_i = y_i-m_x$: deviations from mean\n",
    "  - $\\sum_j w_{ij}z_j$ is the independent variable in this regression, called `spatial lag`\n",
    "- `Moran's I` depends on `spatial weights`, relative magnitude for same weights\n",
    "\n",
    "  ![img](./assets/24png.png)\n",
    "\n",
    "- Similar to `Person Correlation`, which is $(Cross Product)/Sd$, Here is autocorrelation,\n"
   ]
  },
  {
   "cell_type": "markdown",
   "id": "dc81e6b7-ab5f-4458-b6ac-7b9815c8531c",
   "metadata": {},
   "source": [
    "### Inference\n",
    "\n",
    "1. How to assess whether the computed value of `Moran's Index `is significantly different from a value for a spatially random distribution\n",
    "\n",
    "- Assume `normal distribution`\n",
    "- Compare value to a `reference distribution` obtained from a series of randomly permuted patterns\n",
    "\n",
    "  1.  Positive and significant = clustering of like value\n",
    "  2.  **Different Process can result in the same pattern**\n",
    "      1.  **True contagion**: Evidence of clustering due to **spatial interaction**\n",
    "          - Spatial interaction can through network other than geographical distance\n",
    "      2.  **Apparent contagion**: Evidence of clustering due to **spatial heterogeneity**\n",
    "  3.  Negative and significant = alternating values\n",
    "\n",
    "2. Moran Z-value\n",
    "\n",
    "$$\n",
    " z = \\frac{\\text{Observed } I - \\text{Mean}(I)}{sd}\n",
    "$$\n",
    "\n",
    "- Z are comparable across variables and across spatial weights\n",
    "  - Moran's I are not comparable if spatial weight matrix are not same\n",
    "  - Spatial weight matrix is for spatial similarity measuring\n"
   ]
  },
  {
   "cell_type": "markdown",
   "id": "842293e0-feab-411e-b40f-2ec893124296",
   "metadata": {},
   "source": [
    "## Geary's C (1954)\n",
    "\n",
    "1. `Squared difference` as measure of dissimilarity\n",
    "   - **Values between 0 and 2**\n",
    "2. Similar to notion of `variogram` (geo-statistics)\n",
    "\n",
    "$$\n",
    "C = \\frac{(N - 1) \\sum_i \\sum_j w_{ij} (x_i - x_j)^2}{2s_0 \\sum_i z_i^2}\n",
    "$$\n",
    "\n",
    "- $S_0 = \\sum_i \\sum_j W_{ij}$\n",
    "\n",
    "### Interpretation\n",
    "\n",
    "1. Positive spatial autocorrelation: $(c < 1)$ or $(z < 0)$\n",
    "2. Negative spatial autocorrelation: $(c > 1)$ or $(z > 0)$\n"
   ]
  },
  {
   "cell_type": "markdown",
   "id": "6faff32b-b8a6-4ac8-b71a-6b8814ef90ec",
   "metadata": {
    "tags": []
   },
   "source": [
    "### Inference\n",
    "\n",
    "- Same to `Moran's I`\n",
    "\n",
    "![image.png](./assets/25.png)\n"
   ]
  }
 ],
 "metadata": {
  "kernelspec": {
   "display_name": "Python 3 (ipykernel)",
   "language": "python",
   "name": "python3"
  },
  "language_info": {
   "codemirror_mode": {
    "name": "ipython",
    "version": 3
   },
   "file_extension": ".py",
   "mimetype": "text/x-python",
   "name": "python",
   "nbconvert_exporter": "python",
   "pygments_lexer": "ipython3",
   "version": "3.10.9"
  }
 },
 "nbformat": 4,
 "nbformat_minor": 5
}
