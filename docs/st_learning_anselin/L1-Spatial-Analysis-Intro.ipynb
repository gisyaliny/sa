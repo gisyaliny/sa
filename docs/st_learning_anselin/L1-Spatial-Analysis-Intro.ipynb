{
 "cells": [
  {
   "cell_type": "markdown",
   "id": "943f7673",
   "metadata": {},
   "source": [
    "# Introduction of Spatial Analysis\n"
   ]
  },
  {
   "cell_type": "markdown",
   "id": "5a0652ec-688a-459b-b800-ed1f3140c123",
   "metadata": {},
   "source": [
    "## What's spatial analysis\n",
    "\n",
    "1. Transformation, manipulation and application of analytical methods to spatial (geographic) data (Goodchild)\n",
    "2. It's about `geospatial kdd` (Knowledge discovery from data)\n",
    "\n",
    "   $ data \\to information \\to knowledge \\to wisdom $\n"
   ]
  },
  {
   "cell_type": "markdown",
   "id": "232a74df-1f49-42e4-b18c-a0b7a4e5539f",
   "metadata": {},
   "source": [
    "### What's \"geospatial\"\n",
    "\n",
    "- Location + value (attribute)\n",
    "  - When location changes, the information content of data changes\n",
    "- `non-spatial`: location does not matter $\\to$ `spatial invariance`\n"
   ]
  },
  {
   "cell_type": "markdown",
   "id": "b5abfb9c-25a2-494a-be2d-048319991c0e",
   "metadata": {},
   "source": [
    "### Components (workflow) of spatial data analysis\n",
    "\n",
    "1. Mapping and geo-visualization\n",
    "   - **Showing** interesting patterns\n",
    "2. Exploratory spatial data analysis\n",
    "   - **Discovering** interesting patterns\n",
    "3. Spatial modeling\n",
    "   - **Explaining** interesting patterns\n",
    "   - `Optimization`, `Simulation`, `Prediction`\n"
   ]
  },
  {
   "cell_type": "markdown",
   "id": "b439d503-ce7b-4048-a8b2-ace384d1de47",
   "metadata": {},
   "source": [
    "## What's Spatial Questions\n",
    "\n",
    "1. Where do things happen\n",
    "   - Pattern, clusters, hot spots, disparities\n",
    "2. Why do they happen\n",
    "   - Location decisions\n",
    "   - Spatial regression, correlation analysis\n",
    "3. How does where things happen affect other things\n",
    "   - (context, environment)\n",
    "   - Spatial autocorrelation\n",
    "4. How does context affect what happens\n",
    "   - Interaction\n",
    "5. Where should things be located\n",
    "   - optimization\n"
   ]
  },
  {
   "cell_type": "markdown",
   "id": "90a3ceaa-b134-4548-8899-0c5e497ade1e",
   "metadata": {},
   "source": [
    "## Spatial data types\n",
    "\n",
    "Remember match between the `scale of process` you study and the `scale of measurement`\n",
    "\n",
    "### Point\n",
    "\n",
    "1. Characteristics\n",
    "   - Location of events\n",
    "2. Research question\n",
    "   - Randomly in space or clustered?\n",
    "   - Point pattern analysis\n",
    "     1. KDE(Heat Map)\n",
    "\n",
    "### Surface\n",
    "\n",
    "1. Characteristics\n",
    "   - Continuous spatial field\n",
    "     - Air quality, noise, price\n",
    "   - Research question\n",
    "     1. Given discrete measures, what's an air quality surface for a region\n",
    "     2. Spatial interpolation\n",
    "        1. Kriging\n",
    "\n",
    "### Discrete spatial data - lattice data\n",
    "\n",
    "1.  Characteristics\n",
    "    - Area units\n",
    "      - Census tracts, counties, countries\n",
    "    - Research question\n",
    "      - Where are hot spots of income inequality in the city\n",
    "        1. Cluster detection\n",
    "        2. Location similarity + Attribute similarity\n",
    "\n",
    "### Networks\n"
   ]
  },
  {
   "cell_type": "markdown",
   "id": "92e4f9bf-0272-4717-a862-9232c2f0dcd1",
   "metadata": {},
   "source": [
    "## Modifiable Areal Unit Problem (MAUP)\n",
    "\n",
    "1. What's the proper `spatial scale` of analysis?\n",
    "2. `Spatial heterogeneity` - different processes at different locations/scales\n",
    "3. Both size and spatial arrangement will affect the result\n",
    "\n",
    "   ![image.png](./assets/01.png)\n"
   ]
  },
  {
   "cell_type": "markdown",
   "id": "dbbfa2a4-a2b5-4675-bb86-59d1af4252af",
   "metadata": {},
   "source": [
    "## Change of Support Problem\n",
    "\n",
    "1. Variables measured at different `spatial scales`\n",
    "   - Nested, hierarchical structures (county / states)\n",
    "   - Non-nested, overlapping (school district / census tract)\n",
    "2. **Solution**\n",
    "   - Aggregate up to a common scale\n",
    "   - Interpolate/impute - `Bayesian` approach\n"
   ]
  }
 ],
 "metadata": {
  "kernelspec": {
   "display_name": "Python 3 (ipykernel)",
   "language": "python",
   "name": "python3"
  },
  "language_info": {
   "codemirror_mode": {
    "name": "ipython",
    "version": 3
   },
   "file_extension": ".py",
   "mimetype": "text/x-python",
   "name": "python",
   "nbconvert_exporter": "python",
   "pygments_lexer": "ipython3",
   "version": "3.10.9"
  }
 },
 "nbformat": 4,
 "nbformat_minor": 5
}
