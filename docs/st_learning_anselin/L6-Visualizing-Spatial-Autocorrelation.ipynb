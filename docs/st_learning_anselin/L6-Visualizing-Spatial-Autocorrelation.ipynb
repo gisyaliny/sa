{
 "cells": [
  {
   "cell_type": "markdown",
   "id": "8a186cc8-dd53-4d50-9fb0-4f21e6af14ee",
   "metadata": {},
   "source": [
    "# Visualizing Spatial Autocorrelation\n",
    "\n",
    "## Moran Scatter Plot (Anselin 1996)\n",
    "\n",
    "![image.png](./assets/26.png)\n"
   ]
  },
  {
   "cell_type": "markdown",
   "id": "a963909f-4c3a-4d70-8094-f84dea34181d",
   "metadata": {},
   "source": [
    "### Interpretation\n",
    "\n",
    "`Moran's I` is `slope` in a regression of $\\sum_jw_{ij} z_j$ on $z_i$\n",
    "\n",
    "1. $\\sum_jw_{ij}z_j$ is the independent variable in this regression, called `spatial lag`\n",
    "2. The x-axis is value at each location, the y axis is `spatial lag` (**weighted average of neighboring values**)\n"
   ]
  },
  {
   "cell_type": "markdown",
   "id": "d1bf30cf-e5c8-49ac-bde3-1a924865383b",
   "metadata": {},
   "source": [
    "### Categories of Local Spatial Autocorrelation\n",
    "\n",
    "- Based on 4 quadrants / Relative to mean\n",
    "\n",
    "- Upper right and lower left are `positive spatial autocorrelation`\n",
    "\n",
    "  - Clusters of like values\n",
    "  - Locations are similar to their neighbors\n",
    "\n",
    "- Lower right and upper left are `negative spatial autocorrelation`\n",
    "\n",
    "  - Spatial outliers\n",
    "  - Locations are different from their neighbors\n",
    "\n",
    "  ![img](./assets/27.png)\n"
   ]
  },
  {
   "cell_type": "markdown",
   "id": "372e42ac-5e41-42f9-87da-2104811ad80d",
   "metadata": {},
   "source": [
    "### Smoothing the Moran Scatter Plot\n",
    "\n",
    "1. Use local regression (`LOWESS`) as a nonlinear smoother\n",
    "2. Discover structural breaks in `global spatial autocorrelation`\n",
    "\n",
    "   - Areas of high and low (or no) spatial autocorrelation\n",
    "   - A form of `spatial heterogeneity`\n",
    "\n",
    "   ![img](./assets/28.png)\n"
   ]
  },
  {
   "cell_type": "markdown",
   "id": "7c7ad7ae-674b-4857-85c5-d5fcd9503790",
   "metadata": {},
   "source": [
    "## Correlogram\n",
    "\n",
    "### Interpretation\n",
    "\n",
    "1.  Range of `spatial autocorrelation` (first hit the 0)\n",
    "2.  Alternative to specifying `spatial weights` (data-driven)\n",
    "3.  Sensitive to kernel fit (choose `bandwidth` and `kernel function`)\n",
    "4.  May violate `Tobler's law`\n",
    "\n",
    "![img](./assets/29.png)\n",
    "\n",
    "`Moran's I plot` is about `Cross-product statistics` of pair of observations, now we consider about `non-parametric approach`.\n",
    "\n",
    "1. Calculate the cross-product (covariance / auto-covariance) of each pair, and plot it across the distance\n",
    "\n",
    "$$\n",
    "    \\rho_{ij} = \\rho(z_i, z_j) = \\frac{\\hat{z_i} * \\hat{z_j}}{\\frac{1}{n}\\sum_n (z_n - z_m)^2}\n",
    "$$\n",
    "\n",
    "- $\\hat{Z_i}$: deviations from the mean\n",
    "- $\\frac{n(n-1)}{2}$ individual values of $\\rho_{ij}$ (unique pair from $n$ elements)\n",
    "\n",
    "2. Fit the function of $\\rho_{ij}$ = $g(d_{ij})$\n",
    "   - Use `kernel estimator` / `local regression`\n",
    "     - Depends on choice of `kernel function` and `bandwidth`\n",
    "     - Values of the estimated $g(d_{ij})$ do not necessarily result in a valid `variance-covariance matrix`\n",
    "   - **When first hit 0, means how far the `spatial interaction` goes**, the following is waving around 0, basically the noise\n",
    "3. Problems\n",
    "\n",
    "   - When distance goes larger, the pair of observations decrease rapidly.\n",
    "   - These \"high-leverage\" points may distort the whole pattern\n",
    "   - **Solution**: Cut-off the distance by certain point\n",
    "\n",
    "   ![img](./assets/30.png)\n"
   ]
  },
  {
   "cell_type": "markdown",
   "id": "70a3cfca-5804-4df6-a85e-ce3acc38f4d8",
   "metadata": {},
   "source": [
    "## Smoothed Distance Scatter Plot (Anselin and Li, 2020)\n",
    "\n",
    "Plot geographical distance on the x-axis, and attribute distance on the y-axis\n",
    "\n",
    "- **Euclidean geographical distance**\n",
    "\n",
    "$$\n",
    "d_{ij} = \\left[ (x_i - x_j)^2 + (y_i - y_j)^2 \\right]^{1/2}\n",
    "$$\n",
    "\n",
    "- **Euclidean distance in attribute space**\n",
    "\n",
    "$$\n",
    "v_{ij} = \\left[ \\sum_k (z_{ki} - z_{kj})^2 \\right]^{1/2}\n",
    "$$\n",
    "\n",
    "### Concern\n",
    "\n",
    "1. Too many points $\\left( \\frac{n(n-1)}{2} \\right)$\n",
    "   - Smooth the scatter plot\n",
    "2. Tobler's law\n",
    "   i. `Attribute distance` should increase with `geographical distance`\n",
    "3. We can also calculate the `attribute distance` of **multiple variables**\n",
    "\n",
    "   ![img](./assets/31.png)\n"
   ]
  },
  {
   "cell_type": "markdown",
   "id": "8f10773a-cc3f-4281-aa7d-9c9357c608b2",
   "metadata": {},
   "source": [
    "## Semi-variogram (Matheron, 1963)\n",
    "\n",
    "### Definition\n",
    "\n",
    "1. `Semi-variance` $\\gamma(s_1, s_2)$ is half the average squared difference between the value at points $s_1$ and $s_2$, it's defined as\n",
    "\n",
    "$$\n",
    "   \\gamma(s_1, s_2) = \\frac{\\sum_v (s_1 - s_2)^2}{2V}\n",
    "$$\n",
    "\n",
    "2. Fit the function $\\rho(s*1, s_2) = g(h)$\n",
    "   - $h$ represents the geographical distance\n",
    "   - The `exponential variogram model`\n",
    "\n",
    "$$\n",
    "     \\gamma(h) = (s - n)(1 - \\exp(-h/(ra))) + n1*{(0, \\infty)}(h)\n",
    "$$\n",
    "\n",
    "- The `spherical variogram model`\n",
    "\n",
    "$$\n",
    "     \\gamma(h) = (s - n)\\left(\\left(\\frac{3h}{2r} - \\frac{h^3}{2r^3}\\right)1*{(0, r)}(h) + 1*{[r, \\infty)}(h)\\right) + n1*{(0, \\infty)}(h)\n",
    "$$\n",
    "\n",
    "- The `Gaussian variogram model`\n",
    "\n",
    "$$\n",
    " \\gamma(h) = (s - n)\\left(1 - \\exp\\left(-\\frac{h^2}{r^2a}\\right)\\right) + n1_{(0, \\infty)}(h)\n",
    "$$\n"
   ]
  },
  {
   "cell_type": "markdown",
   "id": "85985851-a0db-414a-a904-f81eb8a0ae46",
   "metadata": {},
   "source": [
    "### Interpretation\n",
    "\n",
    "- **Nugget $n$**: Due to the `measurement error` or spatial source variation of smaller distance than sample unit, the value at the same location might have a different value as well.\n",
    "- **Sill $s$**: Limit of the variogram tending to infinity lag distances.\n",
    "- **Range $r$**: The distance in which the difference of the variogram from the sill becomes negligible. indicates the range of `spatial autocorrelation`\n",
    "\n",
    "  ![img](./assets/01.jpg)\n"
   ]
  }
 ],
 "metadata": {
  "kernelspec": {
   "display_name": "Python 3 (ipykernel)",
   "language": "python",
   "name": "python3"
  },
  "language_info": {
   "codemirror_mode": {
    "name": "ipython",
    "version": 3
   },
   "file_extension": ".py",
   "mimetype": "text/x-python",
   "name": "python",
   "nbconvert_exporter": "python",
   "pygments_lexer": "ipython3",
   "version": "3.10.9"
  }
 },
 "nbformat": 4,
 "nbformat_minor": 5
}
