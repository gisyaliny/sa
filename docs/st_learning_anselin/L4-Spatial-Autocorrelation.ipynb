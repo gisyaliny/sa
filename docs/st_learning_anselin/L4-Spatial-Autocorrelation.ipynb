{
 "cells": [
  {
   "cell_type": "markdown",
   "id": "3ad41667",
   "metadata": {},
   "source": [
    "# Spatial Autocorrelation\n"
   ]
  },
  {
   "cell_type": "markdown",
   "id": "ba9e7ea8-4cfd-4775-9373-6a6f3e54fe12",
   "metadata": {},
   "source": [
    "## Spatial Randomness\n",
    "\n",
    "### The Null Hypothesis\n",
    "\n",
    "1. Spatial randomness is absence of any pattern\n",
    "2. If rejected, then there is evidence of spatial structure\n",
    "\n",
    "### Interpreting Spatial Randomness\n",
    "\n",
    "1. The observed spatial pattern of clues is equally likely as any other spatial pattern\n",
    "   - `Simultaneous` view (`Pattern`)\n",
    "2. Value at one location does not depend on values at other (neighboring) locations\n",
    "   - `Conditional` view\n"
   ]
  },
  {
   "cell_type": "markdown",
   "id": "fccdb633-1e23-4a84-8695-6aa2b16abb2b",
   "metadata": {},
   "source": [
    "### Operationalizing Spatial Randomness\n",
    "\n",
    "Random permutation or reshuffling of values\n",
    "`Tobler's First Law` of Geography\n",
    "\n",
    "1. Everything depends on everything else, but closer things more so\n",
    "   1. Structures spatial dependence\n",
    "   2. Importance of `distance decay`\n",
    "      - Observations further apart are less correlate\n",
    "      * `Range of interaction` - no spatial correlation beyond\n",
    "\n",
    "![image.png](./assets/19.png)\n"
   ]
  },
  {
   "cell_type": "markdown",
   "id": "4fc58aec-04b1-4210-a350-7fae7917e3a8",
   "metadata": {},
   "source": [
    "## Positive and Negative spatial autocorrelation\n",
    "\n",
    "### Positive Spatial Autocorrelation\n",
    "\n",
    "1. Impression of clustering\n",
    "2. Clumps of like values\n",
    "\n",
    "   - Like values can be either high (`hot spots`) or low (`cold spots`)\n",
    "\n",
    "   ![img](./assets/20.png)\n"
   ]
  },
  {
   "cell_type": "markdown",
   "id": "7b4b0239-e3a9-49d5-95ca-547106c814fb",
   "metadata": {},
   "source": [
    "### Negative Spatial Autocorrelation\n",
    "\n",
    "1. Checkerboard pattern\n",
    "2. Hard to distinguish from spatial randomness\n",
    "\n",
    "   ![img](./assets/21.png)\n"
   ]
  },
  {
   "cell_type": "markdown",
   "id": "51d7a98e-53d5-44cc-8b0c-2dc8b27bfff2",
   "metadata": {},
   "source": [
    "## Spatial Autocorrelation Statistics\n",
    "\n",
    "### Test Statistics\n",
    "\n",
    "1. Calculated from the data and compared to a reference distribution\n",
    "2. **How likely** is the value if it had occurred under `null hypothesis` (`spatial randomness`)\n",
    "   - `Type-one error:` you reject the null hypothesis but it's true\n",
    "   - When unlikely (low p-value) the null hypothesis is rejected\n",
    "\n",
    "![image.png](./assets/22.png)\n"
   ]
  },
  {
   "cell_type": "markdown",
   "id": "e0f77525-7632-4bd1-aa95-75cb819c9264",
   "metadata": {},
   "source": [
    "## Spatial Autocorrelation Statistic\n",
    "\n",
    "- Captures both `attribute similarity` and `locational similarity`\n",
    "- Attribute Similarity\n",
    "  1. Summary of similarity of observations for variable at different locations\n",
    "  2. Construct $f(y_i,y_j)$ at location $i,j$\n"
   ]
  },
  {
   "cell_type": "markdown",
   "id": "244609d1-7ff8-4729-947b-01c592befcee",
   "metadata": {},
   "source": [
    "### Similarity Measure\n",
    "\n",
    "- `Cross product`: $y_i,y_j$\n",
    "\n",
    "- Under randomness (`null hypothesis`), cross product is not systematically large or small, otherwise, suggests spatial patterns\n"
   ]
  },
  {
   "cell_type": "markdown",
   "id": "3edd1388-4e2a-4f2a-8eec-fa53dc21c474",
   "metadata": {},
   "source": [
    "### Dissimilarity Measure\n",
    "\n",
    "- `Squared difference` : $(y_i−y_j )^2$\n",
    "\n",
    "- `Absolute difference` : $|y_i−y_j |$\n"
   ]
  },
  {
   "cell_type": "markdown",
   "id": "68c70272-994f-4258-83e0-09f05fa162b3",
   "metadata": {
    "tags": []
   },
   "source": [
    "### Locational Similarity\n",
    "\n",
    "- Formalizing the notion of neighbors $=(W_ij)$, `spatial weights`\n",
    "- When are two Spatial units $i$ and $j$ a priori likely to interact\n",
    "- Not necessarily a geographical notion, can be based on `social network` or `general distance` concepts\n"
   ]
  },
  {
   "cell_type": "markdown",
   "id": "9acda1f9-e637-445e-8a98-c969105a899d",
   "metadata": {},
   "source": [
    "## General Form of Spatial Autocorrelation Statistic\n",
    "\n",
    "1. Sum over all pairs of observations of the product of attribute similarity measure with a neighbor indicator (spatial weight)\n",
    "\n",
    "   - $\\sum_{ij}f(x_i,x_j)W_{ij}$\n",
    "   - where $f(x_i,x_j)$ is `attribute similarity`, $W_ij$ is a `spatial weight`\n"
   ]
  }
 ],
 "metadata": {
  "kernelspec": {
   "display_name": "Python 3 (ipykernel)",
   "language": "python",
   "name": "python3"
  },
  "language_info": {
   "codemirror_mode": {
    "name": "ipython",
    "version": 3
   },
   "file_extension": ".py",
   "mimetype": "text/x-python",
   "name": "python",
   "nbconvert_exporter": "python",
   "pygments_lexer": "ipython3",
   "version": "3.10.9"
  }
 },
 "nbformat": 4,
 "nbformat_minor": 5
}
